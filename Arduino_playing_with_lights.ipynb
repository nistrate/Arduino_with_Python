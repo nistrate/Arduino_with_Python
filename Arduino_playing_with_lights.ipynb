{
 "cells": [
  {
   "cell_type": "code",
   "execution_count": null,
   "metadata": {},
   "outputs": [],
   "source": [
    "import serial"
   ]
  },
  {
   "cell_type": "code",
   "execution_count": null,
   "metadata": {},
   "outputs": [],
   "source": [
    "# LCD saying Hello World\n",
    "\n",
    "# s = serial.Serial('/dev/ttyACM0') #port is 11 (for COM12), and baud rate is 9600\n",
    "# time.sleep(2)    #wait for the Serial to initialize\n",
    "# s.write(b'Ready...\\nHa!')\n",
    "# while True:\n",
    "#     str0 = input('Enter text: ')\n",
    "#     str0 = str0.strip()\n",
    "#     if str0 == 'exit' :\n",
    "#         break\n",
    "#     s.write(str0)"
   ]
  },
  {
   "cell_type": "code",
   "execution_count": null,
   "metadata": {},
   "outputs": [],
   "source": [
    "import pyfirmata\n",
    "import time\n",
    "\n",
    "\n",
    "import tkinter\n",
    "from tkinter import messagebox\n",
    "\n",
    "\n",
    "board = pyfirmata.Arduino('/dev/ttyACM0')"
   ]
  },
  {
   "cell_type": "code",
   "execution_count": null,
   "metadata": {},
   "outputs": [],
   "source": [
    "# # LED out through pin 13\n",
    "\n",
    "# while True:\n",
    "#     board.digital[13].write(1)\n",
    "#     time.sleep(8)\n",
    "#     board.digital[13].write(0)\n",
    "#     time.sleep(2)"
   ]
  },
  {
   "cell_type": "code",
   "execution_count": null,
   "metadata": {},
   "outputs": [],
   "source": [
    "\n",
    "# it = pyfirmata.util.Iterator(board)\n",
    "# it.start()\n",
    "\n",
    "# digital_input = board.get_pin('d:10:i')\n",
    "# led = board.get_pin('d:13:o')\n",
    "\n",
    "# while True:\n",
    "#     sw = board.digital[10].read()\n",
    "#     if sw is True:\n",
    "#         led.write(1)\n",
    "#     else:\n",
    "#         led.write(0)\n",
    "#     time.sleep(0.1)"
   ]
  },
  {
   "cell_type": "code",
   "execution_count": null,
   "metadata": {},
   "outputs": [],
   "source": [
    "\n",
    "# iteration_cycle = pyfirmata.util.Iterator(board)\n",
    "# iteration_cycle.start()\n",
    "\n",
    "# analog_input = board.get_pin('a:0:i')\n",
    "\n",
    "\n",
    "# while True:\n",
    "#     analog_value = analog_input.read()\n",
    "#     print(analog_value)\n",
    "#     time.sleep(0.1)"
   ]
  },
  {
   "cell_type": "code",
   "execution_count": null,
   "metadata": {},
   "outputs": [],
   "source": [
    "\n",
    "# iteration_cycle = pyfirmata.util.Iterator(board)\n",
    "# iteration_cycle.start()\n",
    "\n",
    "# analog_input = board.get_pin('a:0:i')\n",
    "# led = board.get_pin('d:13:o')\n",
    "\n",
    "# while True:\n",
    "#     analog_value = analog_input.read()\n",
    "# #    print(analog_value)\n",
    "#     if analog_value is not None:\n",
    "#         delay = analog_value+0.1\n",
    "#         led.write(1)\n",
    "#         time.sleep(delay)\n",
    "#         led.write(0)\n",
    "#         time.sleep(delay)\n",
    "#     else:\n",
    "#         time.sleep(0.1)"
   ]
  },
  {
   "cell_type": "code",
   "execution_count": null,
   "metadata": {},
   "outputs": [],
   "source": [
    "\n",
    "# iteration_cycle = pyfirmata.util.Iterator(board)\n",
    "# iteration_cycle.start()\n",
    "\n",
    "# analog_input = board.get_pin('a:0:i')\n",
    "# led = board.get_pin('d:11:p')\n",
    "\n",
    "# while True:\n",
    "#     analog_value = analog_input.read()\n",
    "# #    print(analog_value)\n",
    "#     if analog_value is not None:\n",
    "#         led.write(analog_value)\n",
    "#     time.sleep(0.1)"
   ]
  },
  {
   "cell_type": "code",
   "execution_count": null,
   "metadata": {},
   "outputs": [],
   "source": []
  },
  {
   "cell_type": "code",
   "execution_count": 2,
   "metadata": {},
   "outputs": [
    {
     "ename": "KeyboardInterrupt",
     "evalue": "",
     "output_type": "error",
     "traceback": [
      "\u001b[0;31m----------------------------------------------------------------------\u001b[0m",
      "\u001b[0;31mKeyboardInterrupt\u001b[0m                    Traceback (most recent call last)",
      "\u001b[0;32m<ipython-input-2-e17a529b359d>\u001b[0m in \u001b[0;36m<module>\u001b[0;34m\u001b[0m\n\u001b[1;32m     23\u001b[0m         \u001b[0mroot\u001b[0m\u001b[0;34m.\u001b[0m\u001b[0mupdate\u001b[0m\u001b[0;34m(\u001b[0m\u001b[0;34m)\u001b[0m\u001b[0;34m\u001b[0m\u001b[0;34m\u001b[0m\u001b[0m\n\u001b[1;32m     24\u001b[0m         \u001b[0mled\u001b[0m\u001b[0;34m.\u001b[0m\u001b[0mwrite\u001b[0m\u001b[0;34m(\u001b[0m\u001b[0;36m0\u001b[0m\u001b[0;34m)\u001b[0m\u001b[0;34m\u001b[0m\u001b[0;34m\u001b[0m\u001b[0m\n\u001b[0;32m---> 25\u001b[0;31m     \u001b[0mtime\u001b[0m\u001b[0;34m.\u001b[0m\u001b[0msleep\u001b[0m\u001b[0;34m(\u001b[0m\u001b[0;36m0.1\u001b[0m\u001b[0;34m)\u001b[0m\u001b[0;34m\u001b[0m\u001b[0;34m\u001b[0m\u001b[0m\n\u001b[0m",
      "\u001b[0;31mKeyboardInterrupt\u001b[0m: "
     ]
    }
   ],
   "source": [
    "\n",
    "root = tkinter.Tk()\n",
    "root.withdraw\n",
    "\n",
    "board = pyfirmata.Arduino('/dev/ttyACM0')\n",
    "\n",
    "iteration_cycle = pyfirmata.util.Iterator(board)\n",
    "iteration_cycle.start()\n",
    "\n",
    "digital_input = board.get_pin('d:10:i')\n",
    "led = board.get_pin('d:13:o')\n",
    "\n",
    "while True:\n",
    "    sw = digital_input.read()\n",
    "    \n",
    "    if sw is True:\n",
    "        led.write(1)\n",
    "        messagebox.showinfo(\"Notification\", \"Button was pressed\")\n",
    "        root.update()\n",
    "        led.write(0)\n",
    "    time.sleep(0.1)"
   ]
  },
  {
   "cell_type": "code",
   "execution_count": null,
   "metadata": {},
   "outputs": [],
   "source": []
  }
 ],
 "metadata": {
  "kernelspec": {
   "display_name": "Python 3",
   "language": "python",
   "name": "python3"
  }
 },
 "nbformat": 4,
 "nbformat_minor": 4
}
